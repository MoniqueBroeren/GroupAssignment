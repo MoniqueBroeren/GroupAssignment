{
 "cells": [
  {
   "cell_type": "code",
   "metadata": {
    "ExecuteTime": {
     "end_time": "2024-05-29T12:55:35.829061Z",
     "start_time": "2024-05-29T12:55:34.571015Z"
    }
   },
   "source": [
    "# Import needed libraries\n",
    "import pandas as pd\n",
    "import rdkit\n",
    "from rdkit import Chem\n",
    "from rdkit.Chem import AllChem\n",
    "from rdkit.Chem import Draw\n"
   ],
   "outputs": [],
   "execution_count": 1
  },
  {
   "cell_type": "code",
   "metadata": {
    "ExecuteTime": {
     "end_time": "2024-05-29T12:55:42.988994Z",
     "start_time": "2024-05-29T12:55:42.965757Z"
    }
   },
   "source": [
    "# Test printing molecule\n",
    "smiles = ['COC(=O)c1c[nH]c2cc(OC(C)C)c(OC(C)C)cc2c1=O', \"COC(=O)c1c[nH]c2cc(OC(C)C)c(OC(C)C)cc2c1=O\"]\n",
    "\n",
    "mols = [Chem.MolFromSmiles(smi) for smi in smiles]\n",
    "Draw.MolsToGridImage(mols, molsPerRow=2, subImgSize=(200, 200))"
   ],
   "outputs": [
    {
     "data": {
      "image/png": "[encoded data removed]",
      "text/plain": [
       "<IPython.core.display.Image object>"
      ]
     },
     "execution_count": 2,
     "metadata": {},
     "output_type": "execute_result"
    }
   ],
   "execution_count": 2
  },
  {
   "cell_type": "code",
   "metadata": {
    "ExecuteTime": {
     "end_time": "2024-05-29T12:56:21.001270Z",
     "start_time": "2024-05-29T12:56:20.981594Z"
    }
   },
   "source": [
    "# Import data\n",
    "data_raw = pd.read_csv('tested_molecules.csv')\n",
    "data_raw.head()"
   ],
   "outputs": [
    {
     "data": {
      "text/plain": [
       "                                SMILES  PKM2_inhibition  ERK2_inhibition\n",
       "0                 C=C(C)c1nc(N)nc(N)n1                0                0\n",
       "1       C=C(Cl)COc1ccc2c(C)cc(=O)oc2c1                0                0\n",
       "2              C=CCNC(=O)CCCC(=O)NCC=C                0                0\n",
       "3  C=CCOn1c(=O)c(C)[n+]([O-])c2ccccc21                0                0\n",
       "4         C=CCn1cc(Cl)c(=O)n(CC=C)c1=O                0                0"
      ],
      "text/html": [
       "<div>\n",
       "<style scoped>\n",
       "    .dataframe tbody tr th:only-of-type {\n",
       "        vertical-align: middle;\n",
       "    }\n",
       "\n",
       "    .dataframe tbody tr th {\n",
       "        vertical-align: top;\n",
       "    }\n",
       "\n",
       "    .dataframe thead th {\n",
       "        text-align: right;\n",
       "    }\n",
       "</style>\n",
       "<table border=\"1\" class=\"dataframe\">\n",
       "  <thead>\n",
       "    <tr style=\"text-align: right;\">\n",
       "      <th></th>\n",
       "      <th>SMILES</th>\n",
       "      <th>PKM2_inhibition</th>\n",
       "      <th>ERK2_inhibition</th>\n",
       "    </tr>\n",
       "  </thead>\n",
       "  <tbody>\n",
       "    <tr>\n",
       "      <th>0</th>\n",
       "      <td>C=C(C)c1nc(N)nc(N)n1</td>\n",
       "      <td>0</td>\n",
       "      <td>0</td>\n",
       "    </tr>\n",
       "    <tr>\n",
       "      <th>1</th>\n",
       "      <td>C=C(Cl)COc1ccc2c(C)cc(=O)oc2c1</td>\n",
       "      <td>0</td>\n",
       "      <td>0</td>\n",
       "    </tr>\n",
       "    <tr>\n",
       "      <th>2</th>\n",
       "      <td>C=CCNC(=O)CCCC(=O)NCC=C</td>\n",
       "      <td>0</td>\n",
       "      <td>0</td>\n",
       "    </tr>\n",
       "    <tr>\n",
       "      <th>3</th>\n",
       "      <td>C=CCOn1c(=O)c(C)[n+]([O-])c2ccccc21</td>\n",
       "      <td>0</td>\n",
       "      <td>0</td>\n",
       "    </tr>\n",
       "    <tr>\n",
       "      <th>4</th>\n",
       "      <td>C=CCn1cc(Cl)c(=O)n(CC=C)c1=O</td>\n",
       "      <td>0</td>\n",
       "      <td>0</td>\n",
       "    </tr>\n",
       "  </tbody>\n",
       "</table>\n",
       "</div>"
      ]
     },
     "execution_count": 6,
     "metadata": {},
     "output_type": "execute_result"
    }
   ],
   "execution_count": 6
  },
  {
   "cell_type": "code",
   "metadata": {
    "ExecuteTime": {
     "end_time": "2024-05-29T13:02:35.589154Z",
     "start_time": "2024-05-29T13:02:34.881123Z"
    }
   },
   "source": [
    "# Make for each SMILES string, new object\n",
    "data_properties = data_raw.copy()\n",
    "data_properties['molecule_object'] = [Chem.MolFromSmiles(x) for x in data_properties['SMILES']]\n",
    "\n",
    "\n",
    "# Calculate properies of molecules\n",
    "# Useful link for this: https://www.rdkit.org/docs/source/rdkit.Chem.rdMolDescriptors.html\n",
    "data_properties['num_atoms'] = [x.GetNumAtoms() for x in data_properties['molecule_object']]\n",
    "data_properties['molecular_weight'] = [rdkit.Chem.rdMolDescriptors.CalcExactMolWt(x) for x in data_properties['molecule_object']]\n",
    "data_properties['num_amide_bonds'] = [rdkit.Chem.rdMolDescriptors.CalcNumAmideBonds(x) for x in data_properties['molecule_object']]\n",
    "data_properties['num_aromatic_rings'] = [rdkit.Chem.rdMolDescriptors.CalcNumAromaticRings(x) for x in data_properties['molecule_object']]\n",
    "data_properties['num_stereocenters'] = [rdkit.Chem.rdMolDescriptors.CalcNumAtomStereoCenters(x) for x in data_properties['molecule_object']]\n",
    "data_properties['num_H_bond_acceptors'] = [rdkit.Chem.rdMolDescriptors.CalcNumHBA(x) for x in data_properties['molecule_object']]\n",
    "data_properties['num_H_bond_donors'] = [rdkit.Chem.rdMolDescriptors.CalcNumHBD(x) for x in data_properties['molecule_object']]\n",
    "data_properties['num_rings'] = [rdkit.Chem.rdMolDescriptors.CalcNumRings(x) for x in data_properties['molecule_object']]\n",
    "data_properties['num_rotatable_bonds'] = [rdkit.Chem.rdMolDescriptors.CalcNumRotatableBonds(x) for x in data_properties['molecule_object']]\n",
    "\n",
    "# Kaj\n",
    "data_properties['fraction_c_sp3'] = [rdkit.Chem.rdMolDescriptors.CalcFractionCSP3(x) for x in data_properties['molecule_object']]\n",
    "\n",
    "\n",
    "\n",
    "data_properties.head()"
   ],
   "outputs": [
    {
     "data": {
      "text/plain": [
       "                                SMILES  PKM2_inhibition  ERK2_inhibition  \\\n",
       "0                 C=C(C)c1nc(N)nc(N)n1                0                0   \n",
       "1       C=C(Cl)COc1ccc2c(C)cc(=O)oc2c1                0                0   \n",
       "2              C=CCNC(=O)CCCC(=O)NCC=C                0                0   \n",
       "3  C=CCOn1c(=O)c(C)[n+]([O-])c2ccccc21                0                0   \n",
       "4         C=CCn1cc(Cl)c(=O)n(CC=C)c1=O                0                0   \n",
       "\n",
       "                                     molecule_object  num_atoms  \\\n",
       "0  <rdkit.Chem.rdchem.Mol object at 0x000002590F1...         11   \n",
       "1  <rdkit.Chem.rdchem.Mol object at 0x000002590F1...         17   \n",
       "2  <rdkit.Chem.rdchem.Mol object at 0x000002590F1...         15   \n",
       "3  <rdkit.Chem.rdchem.Mol object at 0x000002590F1...         17   \n",
       "4  <rdkit.Chem.rdchem.Mol object at 0x000002590F1...         15   \n",
       "\n",
       "   molecular_weight  num_amide_bonds  num_aromatic_rings  num_stereocenters  \\\n",
       "0        151.085795                0                   1                  0   \n",
       "1        250.039672                0                   2                  0   \n",
       "2        210.136828                2                   0                  0   \n",
       "3        232.084792                0                   2                  0   \n",
       "4        226.050905                0                   1                  0   \n",
       "\n",
       "   num_H_bond_acceptors  num_H_bond_donors  num_rings  num_rotatable_bonds  \\\n",
       "0                     5                  2          1                    1   \n",
       "1                     3                  0          2                    3   \n",
       "2                     2                  2          0                    8   \n",
       "3                     4                  0          2                    3   \n",
       "4                     4                  0          1                    4   \n",
       "\n",
       "   fraction_c_sp3  \n",
       "0        0.166667  \n",
       "1        0.153846  \n",
       "2        0.454545  \n",
       "3        0.166667  \n",
       "4        0.200000  "
      ],
      "text/html": [
       "<div>\n",
       "<style scoped>\n",
       "    .dataframe tbody tr th:only-of-type {\n",
       "        vertical-align: middle;\n",
       "    }\n",
       "\n",
       "    .dataframe tbody tr th {\n",
       "        vertical-align: top;\n",
       "    }\n",
       "\n",
       "    .dataframe thead th {\n",
       "        text-align: right;\n",
       "    }\n",
       "</style>\n",
       "<table border=\"1\" class=\"dataframe\">\n",
       "  <thead>\n",
       "    <tr style=\"text-align: right;\">\n",
       "      <th></th>\n",
       "      <th>SMILES</th>\n",
       "      <th>PKM2_inhibition</th>\n",
       "      <th>ERK2_inhibition</th>\n",
       "      <th>molecule_object</th>\n",
       "      <th>num_atoms</th>\n",
       "      <th>molecular_weight</th>\n",
       "      <th>num_amide_bonds</th>\n",
       "      <th>num_aromatic_rings</th>\n",
       "      <th>num_stereocenters</th>\n",
       "      <th>num_H_bond_acceptors</th>\n",
       "      <th>num_H_bond_donors</th>\n",
       "      <th>num_rings</th>\n",
       "      <th>num_rotatable_bonds</th>\n",
       "      <th>fraction_c_sp3</th>\n",
       "    </tr>\n",
       "  </thead>\n",
       "  <tbody>\n",
       "    <tr>\n",
       "      <th>0</th>\n",
       "      <td>C=C(C)c1nc(N)nc(N)n1</td>\n",
       "      <td>0</td>\n",
       "      <td>0</td>\n",
       "      <td>&lt;rdkit.Chem.rdchem.Mol object at 0x000002590F1...</td>\n",
       "      <td>11</td>\n",
       "      <td>151.085795</td>\n",
       "      <td>0</td>\n",
       "      <td>1</td>\n",
       "      <td>0</td>\n",
       "      <td>5</td>\n",
       "      <td>2</td>\n",
       "      <td>1</td>\n",
       "      <td>1</td>\n",
       "      <td>0.166667</td>\n",
       "    </tr>\n",
       "    <tr>\n",
       "      <th>1</th>\n",
       "      <td>C=C(Cl)COc1ccc2c(C)cc(=O)oc2c1</td>\n",
       "      <td>0</td>\n",
       "      <td>0</td>\n",
       "      <td>&lt;rdkit.Chem.rdchem.Mol object at 0x000002590F1...</td>\n",
       "      <td>17</td>\n",
       "      <td>250.039672</td>\n",
       "      <td>0</td>\n",
       "      <td>2</td>\n",
       "      <td>0</td>\n",
       "      <td>3</td>\n",
       "      <td>0</td>\n",
       "      <td>2</td>\n",
       "      <td>3</td>\n",
       "      <td>0.153846</td>\n",
       "    </tr>\n",
       "    <tr>\n",
       "      <th>2</th>\n",
       "      <td>C=CCNC(=O)CCCC(=O)NCC=C</td>\n",
       "      <td>0</td>\n",
       "      <td>0</td>\n",
       "      <td>&lt;rdkit.Chem.rdchem.Mol object at 0x000002590F1...</td>\n",
       "      <td>15</td>\n",
       "      <td>210.136828</td>\n",
       "      <td>2</td>\n",
       "      <td>0</td>\n",
       "      <td>0</td>\n",
       "      <td>2</td>\n",
       "      <td>2</td>\n",
       "      <td>0</td>\n",
       "      <td>8</td>\n",
       "      <td>0.454545</td>\n",
       "    </tr>\n",
       "    <tr>\n",
       "      <th>3</th>\n",
       "      <td>C=CCOn1c(=O)c(C)[n+]([O-])c2ccccc21</td>\n",
       "      <td>0</td>\n",
       "      <td>0</td>\n",
       "      <td>&lt;rdkit.Chem.rdchem.Mol object at 0x000002590F1...</td>\n",
       "      <td>17</td>\n",
       "      <td>232.084792</td>\n",
       "      <td>0</td>\n",
       "      <td>2</td>\n",
       "      <td>0</td>\n",
       "      <td>4</td>\n",
       "      <td>0</td>\n",
       "      <td>2</td>\n",
       "      <td>3</td>\n",
       "      <td>0.166667</td>\n",
       "    </tr>\n",
       "    <tr>\n",
       "      <th>4</th>\n",
       "      <td>C=CCn1cc(Cl)c(=O)n(CC=C)c1=O</td>\n",
       "      <td>0</td>\n",
       "      <td>0</td>\n",
       "      <td>&lt;rdkit.Chem.rdchem.Mol object at 0x000002590F1...</td>\n",
       "      <td>15</td>\n",
       "      <td>226.050905</td>\n",
       "      <td>0</td>\n",
       "      <td>1</td>\n",
       "      <td>0</td>\n",
       "      <td>4</td>\n",
       "      <td>0</td>\n",
       "      <td>1</td>\n",
       "      <td>4</td>\n",
       "      <td>0.200000</td>\n",
       "    </tr>\n",
       "  </tbody>\n",
       "</table>\n",
       "</div>"
      ]
     },
     "execution_count": 10,
     "metadata": {},
     "output_type": "execute_result"
    }
   ],
   "execution_count": 10
  },
  {
   "cell_type": "code",
   "metadata": {
    "ExecuteTime": {
     "end_time": "2024-05-29T12:55:52.760354Z",
     "start_time": "2024-05-29T12:55:52.756169Z"
    }
   },
   "source": [
    "one_molecule = data_properties['molecule_object'].iloc[0]\n",
    "a = rdkit.Chem.rdMolDescriptors.CalcExactMolWt(one_molecule)\n"
   ],
   "outputs": [],
   "execution_count": 5
  },
  {
   "cell_type": "code",
   "execution_count": null,
   "metadata": {},
   "outputs": [],
   "source": []
  }
 ],
 "metadata": {
  "kernelspec": {
   "display_name": "Python 3",
   "language": "python",
   "name": "python3"
  },
  "language_info": {
   "codemirror_mode": {
    "name": "ipython",
    "version": 3
   },
   "file_extension": ".py",
   "mimetype": "text/x-python",
   "name": "python",
   "nbconvert_exporter": "python",
   "pygments_lexer": "ipython3",
   "version": "3.12.1"
  }
 },
 "nbformat": 4,
 "nbformat_minor": 2
}
