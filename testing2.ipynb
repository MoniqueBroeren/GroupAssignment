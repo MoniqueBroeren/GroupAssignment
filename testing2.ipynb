{
 "cells": [
  {
   "cell_type": "code",
   "metadata": {
    "ExecuteTime": {
     "end_time": "2024-05-30T12:56:56.947769Z",
     "start_time": "2024-05-30T12:56:56.942101Z"
    }
   },
   "source": [
    "#import needed libraries\n",
    "import rdkit\n",
    "from rdkit import Chem\n",
    "from rdkit.Chem import AllChem\n",
    "from rdkit.Chem import Draw\n",
    "import pandas as pd\n",
    "from sklearn.preprocessing import MinMaxScaler\n",
    "from sklearn.decomposition import PCA\n",
    "import numpy as np\n",
    "import matplotlib.pyplot as plt\n",
    "import seaborn as sns"
   ],
   "execution_count": 5,
   "outputs": []
  },
  {
   "cell_type": "code",
   "metadata": {
    "ExecuteTime": {
     "end_time": "2024-05-30T12:56:58.925133Z",
     "start_time": "2024-05-30T12:56:58.906110Z"
    }
   },
   "source": [
    "#test printing molecule\n",
    "smiles = ['COC(=O)c1c[nH]c2cc(OC(C)C)c(OC(C)C)cc2c1=O', \"COC(=O)c1c[nH]c2cc(OC(C)C)c(OC(C)C)cc2c1=O\"]\n",
    "\n",
    "mols = [Chem.MolFromSmiles(smi) for smi in smiles]\n",
    "Draw.MolsToGridImage(mols, molsPerRow=2, subImgSize=(200, 200))"
   ],
   "execution_count": 6,
   "outputs": []
  },
  {
   "cell_type": "code",
   "metadata": {
    "ExecuteTime": {
     "end_time": "2024-05-30T12:57:01.079288Z",
     "start_time": "2024-05-30T12:57:01.049872Z"
    }
   },
   "source": [
    "#import data\n",
    "data_raw = pd.read_csv('tested_molecules.csv')\n",
    "data_raw"
   ],
   "execution_count": 7,
   "outputs": []
  },
  {
   "metadata": {
    "ExecuteTime": {
     "end_time": "2024-05-30T12:57:30.519011Z",
     "start_time": "2024-05-30T12:57:13.770714Z"
    }
   },
   "cell_type": "code",
   "source": [
    "# Create dataframe\n",
    "\n",
    "from main import create_dataframe\n",
    "\n",
    "expanded_df = create_dataframe(data_raw)\n",
    "expanded_df.head()"
   ],
   "execution_count": 10,
   "outputs": []
  },
  {
   "metadata": {},
   "cell_type": "code",
   "execution_count": null,
   "source": "",
   "outputs": []
  },
  {
   "cell_type": "code",
   "metadata": {
    "ExecuteTime": {
     "end_time": "2024-05-30T09:58:26.726098Z",
     "start_time": "2024-05-30T09:58:26.709622Z"
    }
   },
   "source": "# Hier moeten nog de outliers uitgehaald worden\n",
   "execution_count": 46,
   "outputs": []
  },
  {
   "metadata": {
    "ExecuteTime": {
     "end_time": "2024-05-30T09:58:26.958684Z",
     "start_time": "2024-05-30T09:58:26.914512Z"
    }
   },
   "cell_type": "code",
   "source": [
    "# Monique toegevoegd\n",
    "# scale data via minmax scaler\n",
    "scaler = MinMaxScaler()\n",
    "scaled_data = scaler.fit_transform(expanded_df)\n",
    "\n",
    "# use PCA\n",
    "pca = PCA()\n",
    "pca.fit(scaled_data)\n"
   ],
   "execution_count": 47,
   "outputs": []
  },
  {
   "metadata": {
    "ExecuteTime": {
     "end_time": "2024-05-30T09:58:28.495453Z",
     "start_time": "2024-05-30T09:58:27.929090Z"
    }
   },
   "cell_type": "code",
   "source": [
    "cumulative_variance = np.cumsum(pca.explained_variance_ratio_)\n",
    "\n",
    "plt.figure(figsize=(8, 6))\n",
    "plt.bar(range(1, len(cumulative_variance) + 1), cumulative_variance, alpha=0.5, align='center')\n",
    "\n",
    "plt.axhline(y=0.9,color='r',linestyle='-')\n",
    "plt.xlabel('Principal component (PC)')\n",
    "plt.ylabel('Cumulative Explained Variance (%)')\n",
    "plt.title('cumulative explained variance for each principal component')\n",
    "\n",
    "plt.show()"
   ],
   "execution_count": 48,
   "outputs": []
  },
  {
   "metadata": {
    "ExecuteTime": {
     "end_time": "2024-05-30T09:58:28.778739Z",
     "start_time": "2024-05-30T09:58:28.766663Z"
    }
   },
   "cell_type": "code",
   "source": [
    "# Kijken welke het belangrijkste is in pc1\n",
    "important_idx = np.argmax(np.abs(pca.components_[0]))\n",
    "important_feature = expanded_df.columns[important_idx]\n",
    "important_feature"
   ],
   "execution_count": 49,
   "outputs": []
  },
  {
   "metadata": {
    "ExecuteTime": {
     "end_time": "2024-05-30T09:58:29.464054Z",
     "start_time": "2024-05-30T09:58:29.451320Z"
    }
   },
   "cell_type": "code",
   "source": [
    "# Kijken welke het minst belangrijkste is\n",
    "important_idx = np.argmin(np.abs(pca.components_[0]))\n",
    "important_feature = expanded_df.columns[important_idx]\n",
    "important_feature"
   ],
   "execution_count": 50,
   "outputs": []
  },
  {
   "metadata": {},
   "cell_type": "code",
   "execution_count": null,
   "source": "",
   "outputs": []
  },
  {
   "metadata": {},
   "cell_type": "code",
   "outputs": [],
   "execution_count": null,
   "source": ""
  }
 ],
 "metadata": {
  "kernelspec": {
   "display_name": "Python 3",
   "language": "python",
   "name": "python3"
  },
  "language_info": {
   "codemirror_mode": {
    "name": "ipython",
    "version": 3
   },
   "file_extension": ".py",
   "mimetype": "text/x-python",
   "name": "python",
   "nbconvert_exporter": "python",
   "pygments_lexer": "ipython3",
   "version": "3.12.1"
  }
 },
 "nbformat": 4,
 "nbformat_minor": 2
}
